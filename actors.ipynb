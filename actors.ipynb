{
 "cells": [
  {
   "cell_type": "code",
   "execution_count": 17,
   "metadata": {},
   "outputs": [],
   "source": [
    "import client\n",
    "import ontology_parser as op\n",
    "import ontology_formatter as of\n",
    "import openai_parser as oap\n",
    "import datetime\n",
    "import json\n",
    "import graph_maker as gm"
   ]
  },
  {
   "cell_type": "code",
   "execution_count": 18,
   "metadata": {},
   "outputs": [],
   "source": [
    "namespace = \"http://www.semanticweb.org/uxeruses/ontologies/2025/0/actors2\"\n",
    "prefix = \"act\"\n",
    "text_to_extract = \"\"\"\n",
    "    Few actors in the world have had a career quite as diverse as Leonardo DiCaprio's. DiCaprio has gone from relatively humble beginnings, as a supporting cast member of the sitcom Growing Pains (1985) and low budget horror movies, such as Critters 3 (1991), to a major teenage heartthrob in the 1990s, as the hunky lead actor in movies such as Romeo + Juliet (1996) and Titanic (1997), to then become a leading man in Hollywood blockbusters, made by internationally renowned directors such as Martin Scorsese and Christopher Nolan.\n",
    "\n",
    "    Leonardo Wilhelm DiCaprio was born in Los Angeles, California, the only child of Irmelin DiCaprio (née Indenbirken) and former comic book artist George DiCaprio. His father is of Italian and German descent, and his mother, who is German-born, is of German, Ukrainian and Russian ancestry. His middle name, \"Wilhelm\", was his maternal grandfather's first name. Leonardo's father had achieved minor status as an artist and distributor of cult comic book titles, and was even depicted in several issues of American Splendor, the cult semi-autobiographical comic book series by the late 'Harvey Pekar', a friend of George's. Leonardo's performance skills became obvious to his parents early on, and after signing him up with a talent agent who wanted Leonardo to perform under the stage name \"Lenny Williams\", DiCaprio began appearing on a number of television commercials and educational programs.\n",
    "\n",
    "    DiCaprio began attracting the attention of producers, who cast him in small roles in a number of television series, such as Roseanne (1988) and The New Lassie (1989), but it wasn't until 1991 that DiCaprio made his film debut in Critters 3 (1991), a low-budget horror movie. While Critters 3 (1991) did little to help showcase DiCaprio's acting abilities, it did help him develop his show-reel, and attract the attention of the people behind the hit sitcom Growing Pains (1985), in which Leonardo was cast in the \"Cousin Oliver\" role of a young homeless boy who moves in with the Seavers. While DiCaprio's stint on Growing Pains (1985) was very short, as the sitcom was axed the year after he joined, it helped bring DiCaprio into the public's attention and, after the sitcom ended, DiCaprio began auditioning for roles in which he would get the chance to prove his acting chops.\n",
    "    \"\"\"\n",
    "\n",
    "namespaces = {\n",
    "    prefix: f\"{namespace}#\",\n",
    "    \"rdf\": \"http://www.w3.org/1999/02/22-rdf-syntax-ns#\",\n",
    "    \"rdfs\": \"http://www.w3.org/2000/01/rdf-schema#\"\n",
    "}\n"
   ]
  },
  {
   "cell_type": "code",
   "execution_count": 19,
   "metadata": {},
   "outputs": [],
   "source": [
    "cnc, pnc = op.parse('ontologies/actors2.ttl', namespace)\n",
    "formatted_classes = of.format_classess(cnc, namespace, prefix)\n",
    "formatted_properties = of.format_properties(pnc, namespace, prefix)"
   ]
  },
  {
   "cell_type": "code",
   "execution_count": 20,
   "metadata": {},
   "outputs": [
    {
     "name": "stdout",
     "output_type": "stream",
     "text": [
      "[\"Actor\", \"Person\"]\n"
     ]
    }
   ],
   "source": [
    "subjects = client.get_subjects(formatted_classes, text_to_extract)\n",
    "print(subjects)"
   ]
  },
  {
   "cell_type": "code",
   "execution_count": 21,
   "metadata": {},
   "outputs": [
    {
     "name": "stdout",
     "output_type": "stream",
     "text": [
      "[{\"subject\": \"Leonardo DiCaprio\", \"class\": \"Person\"}, {\"subject\": \"Growing Pains\", \"class\": \"TVShow\"}, {\"subject\": \"Critters 3\", \"class\": \"Movie\"}, {\"subject\": \"Romeo + Juliet\", \"class\": \"Movie\"}, {\"subject\": \"Titanic\", \"class\": \"Movie\"}, {\"subject\": \"Martin Scorsese\", \"class\": \"Director\"}, {\"subject\": \"Christopher Nolan\", \"class\": \"Director\"}, {\"subject\": \"Los Angeles\", \"class\": \"City\"}, {\"subject\": \"California\", \"class\": \"Nationality\"}, {\"subject\": \"Irmelin DiCaprio\", \"class\": \"Person\"}, {\"subject\": \"George DiCaprio\", \"class\": \"Person\"}, {\"subject\": \"Italian\", \"class\": \"Nationality\"}, {\"subject\": \"German\", \"class\": \"Nationality\"}, {\"subject\": \"Ukrainian\", \"class\": \"Nationality\"}, {\"subject\": \"Russian\", \"class\": \"Nationality\"}, {\"subject\": \"American Splendor\", \"class\": \"Movie\"}]\n"
     ]
    }
   ],
   "source": [
    "subject_classes = client.get_subject_classess(subjects, formatted_classes, text_to_extract)\n",
    "print(subject_classes)"
   ]
  },
  {
   "cell_type": "code",
   "execution_count": 22,
   "metadata": {},
   "outputs": [
    {
     "name": "stdout",
     "output_type": "stream",
     "text": [
      "[\n",
      "  {\n",
      "    \"subject\": \"Leonardo DiCaprio\",\n",
      "    \"predicate\": \"actedIn\",\n",
      "    \"object\": \"Growing Pains\"\n",
      "  },\n",
      "  {\n",
      "    \"subject\": \"Leonardo DiCaprio\",\n",
      "    \"predicate\": \"actedIn\",\n",
      "    \"object\": \"Critters 3\"\n",
      "  },\n",
      "  {\n",
      "    \"subject\": \"Leonardo DiCaprio\",\n",
      "    \"predicate\": \"actedIn\",\n",
      "    \"object\": \"Romeo + Juliet\"\n",
      "  },\n",
      "  {\n",
      "    \"subject\": \"Leonardo DiCaprio\",\n",
      "    \"predicate\": \"actedIn\",\n",
      "    \"object\": \"Titanic\"\n",
      "  },\n",
      "  {\n",
      "    \"subject\": \"Leonardo DiCaprio\",\n",
      "    \"predicate\": \"actedIn\",\n",
      "    \"object\": \"Roseanne\"\n",
      "  },\n",
      "  {\n",
      "    \"subject\": \"Leonardo DiCaprio\",\n",
      "    \"predicate\": \"actedIn\",\n",
      "    \"object\": \"The New Lassie\"\n",
      "  },\n",
      "  {\n",
      "    \"subject\": \"Leonardo DiCaprio\",\n",
      "    \"predicate\": \"wasBornIn\",\n",
      "    \"object\": \"Los Angeles\"\n",
      "  },\n",
      "  {\n",
      "    \"subject\": \"Leonardo DiCaprio\",\n",
      "    \"predicate\": \"hasNationality\",\n",
      "    \"object\": \"American\"\n",
      "  },\n",
      "  {\n",
      "    \"subject\": \"Leonardo DiCaprio\",\n",
      "    \"predicate\": \"hasNationality\",\n",
      "    \"object\": \"Italian\"\n",
      "  },\n",
      "  {\n",
      "    \"subject\": \"Leonardo DiCaprio\",\n",
      "    \"predicate\": \"hasNationality\",\n",
      "    \"object\": \"German\"\n",
      "  },\n",
      "  {\n",
      "    \"subject\": \"Leonardo DiCaprio\",\n",
      "    \"predicate\": \"hasNationality\",\n",
      "    \"object\": \"Ukrainian\"\n",
      "  },\n",
      "  {\n",
      "    \"subject\": \"Leonardo DiCaprio\",\n",
      "    \"predicate\": \"hasNationality\",\n",
      "    \"object\": \"Russian\"\n",
      "  },\n",
      "  {\n",
      "    \"subject\": \"Leonardo DiCaprio\",\n",
      "    \"predicate\": \"hasParent\",\n",
      "    \"object\": \"Irmelin DiCaprio\"\n",
      "  },\n",
      "  {\n",
      "    \"subject\": \"Leonardo DiCaprio\",\n",
      "    \"predicate\": \"hasParent\",\n",
      "    \"object\": \"George DiCaprio\"\n",
      "  },\n",
      "  {\n",
      "    \"subject\": \"George DiCaprio\",\n",
      "    \"predicate\": \"produced\",\n",
      "    \"object\": \"American Splendor\"\n",
      "  },\n",
      "  {\n",
      "    \"subject\": \"George DiCaprio\",\n",
      "    \"predicate\": \"representedBy\",\n",
      "    \"object\": \"comic book titles\"\n",
      "  },\n",
      "  {\n",
      "    \"subject\": \"Irmelin DiCaprio\",\n",
      "    \"predicate\": \"hasGender\",\n",
      "    \"object\": \"female\"\n",
      "  },\n",
      "  {\n",
      "    \"subject\": \"Irmelin DiCaprio\",\n",
      "    \"predicate\": \"hasRoleType\",\n",
      "    \"object\": \"mother\"\n",
      "  },\n",
      "  {\n",
      "    \"subject\": \"George DiCaprio\",\n",
      "    \"predicate\": \"hasGender\",\n",
      "    \"object\": \"male\"\n",
      "  },\n",
      "  {\n",
      "    \"subject\": \"George DiCaprio\",\n",
      "    \"predicate\": \"hasRoleType\",\n",
      "    \"object\": \"father\"\n",
      "  },\n",
      "  {\n",
      "    \"subject\": \"Martin Scorsese\",\n",
      "    \"predicate\": \"directedBy\",\n",
      "    \"object\": \"Leonardo DiCaprio\"\n",
      "  },\n",
      "  {\n",
      "    \"subject\": \"Christopher Nolan\",\n",
      "    \"predicate\": \"directedBy\",\n",
      "    \"object\": \"Leonardo DiCaprio\"\n",
      "  }\n",
      "]\n"
     ]
    }
   ],
   "source": [
    "properties = client.get_properties(subject_classes, formatted_properties, text_to_extract, prefix)\n",
    "print(properties)"
   ]
  },
  {
   "cell_type": "code",
   "execution_count": 23,
   "metadata": {},
   "outputs": [],
   "source": [
    "filename = f\"output/actors_{datetime.datetime.now().strftime('%Y-%m-%d_%H-%M-%S')}.ttl\"\n",
    "gm.make_graph(namespace, json.loads(subject_classes), json.loads(properties), filename)"
   ]
  }
 ],
 "metadata": {
  "kernelspec": {
   "display_name": "venv",
   "language": "python",
   "name": "python3"
  },
  "language_info": {
   "codemirror_mode": {
    "name": "ipython",
    "version": 3
   },
   "file_extension": ".py",
   "mimetype": "text/x-python",
   "name": "python",
   "nbconvert_exporter": "python",
   "pygments_lexer": "ipython3",
   "version": "3.10.12"
  }
 },
 "nbformat": 4,
 "nbformat_minor": 2
}
