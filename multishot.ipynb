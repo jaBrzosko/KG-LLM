{
 "cells": [
  {
   "cell_type": "code",
   "execution_count": 48,
   "metadata": {},
   "outputs": [],
   "source": [
    "import client\n",
    "import ontology_parser as op\n",
    "import ontology_formatter as of\n",
    "import openai_parser as oap\n",
    "import datetime\n",
    "import graph_maker as gm\n",
    "import json"
   ]
  },
  {
   "cell_type": "code",
   "execution_count": 49,
   "metadata": {},
   "outputs": [],
   "source": [
    "namespace = \"http://www.semanticweb.org/ontologies/2024/11/curie\"\n",
    "prefix = \"cur\"\n",
    "text_to_extract = \"\"\"\n",
    "    Marie Curie, 7 November 1867 - 4 July 1934, was a Polish and naturalised-French physicist and chemist who conducted pioneering research on radioactivity.\n",
    "    She was the first woman to win a Nobel Prize, the first person to win a Nobel Prize twice, and the only person to win a Nobel Prize in two scientific fields.\n",
    "    Her husband, Pierre Curie, was a co-winner of her first Nobel Prize, making them the first-ever married couple to win the Nobel Prize and launching the Curie family legacy of five Nobel Prizes.\n",
    "    She was, in 1906, the first woman to become a professor at the University of Paris.\n",
    "    \"\"\"\n",
    "\n",
    "namespaces = {\n",
    "    prefix: f\"{namespace}#\",\n",
    "    \"rdf\": \"http://www.w3.org/1999/02/22-rdf-syntax-ns#\",\n",
    "    \"rdfs\": \"http://www.w3.org/2000/01/rdf-schema#\"\n",
    "}\n"
   ]
  },
  {
   "cell_type": "code",
   "execution_count": 50,
   "metadata": {},
   "outputs": [],
   "source": [
    "cnc, pnc = op.parse('ontologies/curie.ttl', namespace)\n",
    "formatted_classes = of.format_classess(cnc, namespace, prefix)\n",
    "formatted_properties = of.format_properties(pnc, namespace, prefix)"
   ]
  },
  {
   "cell_type": "code",
   "execution_count": 51,
   "metadata": {},
   "outputs": [
    {
     "name": "stdout",
     "output_type": "stream",
     "text": [
      "- http://www.semanticweb.org/ontologies/2024/11/curie/NobelPrize: A Nobel Prize for academic achievements\n",
      "- http://www.semanticweb.org/ontologies/2024/11/curie/Prize: Generally any prize that can be won\n",
      "- http://www.semanticweb.org/ontologies/2024/11/curie/Professor: Academic worker\n",
      "- http://www.semanticweb.org/ontologies/2024/11/curie/University: Place conducting academic research\n"
     ]
    }
   ],
   "source": [
    "print(formatted_classes)"
   ]
  },
  {
   "cell_type": "code",
   "execution_count": 52,
   "metadata": {},
   "outputs": [
    {
     "name": "stdout",
     "output_type": "stream",
     "text": [
      "- http://www.semanticweb.org/ontologies/2024/11/curie/died: Date of persons death\n",
      "- http://www.semanticweb.org/ontologies/2024/11/curie/wasBorn: Date of persons birth\n",
      "- http://www.semanticweb.org/ontologies/2024/11/curie/hasWon: Has won a prize\n",
      "- http://www.semanticweb.org/ontologies/2024/11/curie/isMarriedTo: Relation between two married people\n",
      "- http://www.semanticweb.org/ontologies/2024/11/curie/isNationality: Is of one specific nationality\n",
      "- http://www.semanticweb.org/ontologies/2024/11/curie/professorAt: Is an academic worker at university\n"
     ]
    }
   ],
   "source": [
    "print(formatted_properties)"
   ]
  },
  {
   "cell_type": "code",
   "execution_count": 53,
   "metadata": {},
   "outputs": [
    {
     "name": "stdout",
     "output_type": "stream",
     "text": [
      "[\"MarieCurie\", \"NobelPrize\", \"Physicist\", \"Chemist\", \"Radioactivity\", \"PierreCurie\", \"University\"]\n"
     ]
    }
   ],
   "source": [
    "subjects = client.get_subjects(formatted_classes, text_to_extract)\n",
    "print(subjects)"
   ]
  },
  {
   "cell_type": "code",
   "execution_count": 58,
   "metadata": {},
   "outputs": [
    {
     "name": "stdout",
     "output_type": "stream",
     "text": [
      "[{\"subject\": \"MarieCurie\", \"class\": \"http://www.semanticweb.org/ontologies/2024/11/curie/Physicist\"},\n",
      " {\"subject\": \"MarieCurie\", \"class\": \"http://www.semanticweb.org/ontologies/2024/11/curie/Chemist\"},\n",
      " {\"subject\": \"MarieCurie\", \"class\": \"http://www.semanticweb.org/ontologies/2024/11/curie/NobelPrize\"},\n",
      " {\"subject\": \"NobelPrize\", \"class\": \"http://www.semanticweb.org/ontologies/2024/11/curie/Prize\"},\n",
      " {\"subject\": \"PierreCurie\", \"class\": \"http://www.semanticweb.org/ontologies/2024/11/curie/Physicist\"},\n",
      " {\"subject\": \"University of Paris\", \"class\": \"http://www.semanticweb.org/ontologies/2024/11/curie/University\"},\n",
      " {\"subject\": \"NobelPrize\", \"class\": \"http://www.semanticweb.org/ontologies/2024/11/curie/Prize\"}]\n"
     ]
    }
   ],
   "source": [
    "subject_classes = client.get_subject_classess(subjects, formatted_classes, text_to_extract)\n",
    "print(subject_classes)"
   ]
  },
  {
   "cell_type": "code",
   "execution_count": 59,
   "metadata": {},
   "outputs": [
    {
     "name": "stdout",
     "output_type": "stream",
     "text": [
      "[\n",
      "    {\n",
      "        \"subject\": \"Marie Curie\",\n",
      "        \"predicate\": \"cur:wasBorn\",\n",
      "        \"object\": \"1867-11-07\"\n",
      "    },\n",
      "    {\n",
      "        \"subject\": \"Marie Curie\",\n",
      "        \"predicate\": \"cur:died\",\n",
      "        \"object\": \"1934-07-04\"\n",
      "    },\n",
      "    {\n",
      "        \"subject\": \"Marie Curie\",\n",
      "        \"predicate\": \"cur:isNationality\",\n",
      "        \"object\": \"http://www.semanticweb.org/ontologies/2024/11/curie/Polish\"\n",
      "    },\n",
      "    {\n",
      "        \"subject\": \"Marie Curie\",\n",
      "        \"predicate\": \"cur:isNationality\",\n",
      "        \"object\": \"http://www.semanticweb.org/ontologies/2024/11/curie/French\"\n",
      "    },\n",
      "    {\n",
      "        \"subject\": \"Marie Curie\",\n",
      "        \"predicate\": \"cur:hasWon\",\n",
      "        \"object\": \"http://www.semanticweb.org/ontologies/2024/11/curie/NobelPrize\"\n",
      "    },\n",
      "    {\n",
      "        \"subject\": \"Marie Curie\",\n",
      "        \"predicate\": \"cur:hasWon\",\n",
      "        \"object\": \"http://www.semanticweb.org/ontologies/2024/11/curie/NobelPrize\"\n",
      "    },\n",
      "    {\n",
      "        \"subject\": \"Marie Curie\",\n",
      "        \"predicate\": \"cur:hasWon\",\n",
      "        \"object\": \"http://www.semanticweb.org/ontologies/2024/11/curie/Physicist\"\n",
      "    },\n",
      "    {\n",
      "        \"subject\": \"Marie Curie\",\n",
      "        \"predicate\": \"cur:hasWon\",\n",
      "        \"object\": \"http://www.semanticweb.org/ontologies/2024/11/curie/Chemist\"\n",
      "    },\n",
      "    {\n",
      "        \"subject\": \"Marie Curie\",\n",
      "        \"predicate\": \"cur:isMarriedTo\",\n",
      "        \"object\": \"Pierre Curie\"\n",
      "    },\n",
      "    {\n",
      "        \"subject\": \"Pierre Curie\",\n",
      "        \"predicate\": \"cur:hasWon\",\n",
      "        \"object\": \"http://www.semanticweb.org/ontologies/2024/11/curie/NobelPrize\"\n",
      "    },\n",
      "    {\n",
      "        \"subject\": \"Pierre Curie\",\n",
      "        \"predicate\": \"cur:hasWon\",\n",
      "        \"object\": \"http://www.semanticweb.org/ontologies/2024/11/curie/Physicist\"\n",
      "    },\n",
      "    {\n",
      "        \"subject\": \"University of Paris\",\n",
      "        \"predicate\": \"cur:professorAt\",\n",
      "        \"object\": \"Marie Curie\"\n",
      "    }\n",
      "]\n"
     ]
    }
   ],
   "source": [
    "properties = client.get_properties(subject_classes, formatted_properties, text_to_extract, prefix)\n",
    "print(properties)"
   ]
  },
  {
   "cell_type": "code",
   "execution_count": 56,
   "metadata": {},
   "outputs": [
    {
     "ename": "JSONDecodeError",
     "evalue": "Expecting value: line 1 column 1 (char 0)",
     "output_type": "error",
     "traceback": [
      "\u001b[0;31m---------------------------------------------------------------------------\u001b[0m",
      "\u001b[0;31mJSONDecodeError\u001b[0m                           Traceback (most recent call last)",
      "Cell \u001b[0;32mIn[56], line 2\u001b[0m\n\u001b[1;32m      1\u001b[0m filename \u001b[38;5;241m=\u001b[39m \u001b[38;5;124mf\u001b[39m\u001b[38;5;124m\"\u001b[39m\u001b[38;5;124moutput/curie_\u001b[39m\u001b[38;5;132;01m{\u001b[39;00mdatetime\u001b[38;5;241m.\u001b[39mdatetime\u001b[38;5;241m.\u001b[39mnow()\u001b[38;5;241m.\u001b[39mstrftime(\u001b[38;5;124m'\u001b[39m\u001b[38;5;124m%\u001b[39m\u001b[38;5;124mY-\u001b[39m\u001b[38;5;124m%\u001b[39m\u001b[38;5;124mm-\u001b[39m\u001b[38;5;132;01m%d\u001b[39;00m\u001b[38;5;124m_\u001b[39m\u001b[38;5;124m%\u001b[39m\u001b[38;5;124mH-\u001b[39m\u001b[38;5;124m%\u001b[39m\u001b[38;5;124mM-\u001b[39m\u001b[38;5;124m%\u001b[39m\u001b[38;5;124mS\u001b[39m\u001b[38;5;124m'\u001b[39m)\u001b[38;5;132;01m}\u001b[39;00m\u001b[38;5;124m.ttl\u001b[39m\u001b[38;5;124m\"\u001b[39m\n\u001b[0;32m----> 2\u001b[0m gm\u001b[38;5;241m.\u001b[39mmake_graph(\u001b[38;5;124m\"\u001b[39m\u001b[38;5;124m:\u001b[39m\u001b[38;5;124m\"\u001b[39m, \u001b[43mjson\u001b[49m\u001b[38;5;241;43m.\u001b[39;49m\u001b[43mloads\u001b[49m\u001b[43m(\u001b[49m\u001b[43msubject_classes\u001b[49m\u001b[43m)\u001b[49m, json\u001b[38;5;241m.\u001b[39mloads(properties), filename)\n",
      "File \u001b[0;32m/usr/lib/python3.10/json/__init__.py:346\u001b[0m, in \u001b[0;36mloads\u001b[0;34m(s, cls, object_hook, parse_float, parse_int, parse_constant, object_pairs_hook, **kw)\u001b[0m\n\u001b[1;32m    341\u001b[0m     s \u001b[38;5;241m=\u001b[39m s\u001b[38;5;241m.\u001b[39mdecode(detect_encoding(s), \u001b[38;5;124m'\u001b[39m\u001b[38;5;124msurrogatepass\u001b[39m\u001b[38;5;124m'\u001b[39m)\n\u001b[1;32m    343\u001b[0m \u001b[38;5;28;01mif\u001b[39;00m (\u001b[38;5;28mcls\u001b[39m \u001b[38;5;129;01mis\u001b[39;00m \u001b[38;5;28;01mNone\u001b[39;00m \u001b[38;5;129;01mand\u001b[39;00m object_hook \u001b[38;5;129;01mis\u001b[39;00m \u001b[38;5;28;01mNone\u001b[39;00m \u001b[38;5;129;01mand\u001b[39;00m\n\u001b[1;32m    344\u001b[0m         parse_int \u001b[38;5;129;01mis\u001b[39;00m \u001b[38;5;28;01mNone\u001b[39;00m \u001b[38;5;129;01mand\u001b[39;00m parse_float \u001b[38;5;129;01mis\u001b[39;00m \u001b[38;5;28;01mNone\u001b[39;00m \u001b[38;5;129;01mand\u001b[39;00m\n\u001b[1;32m    345\u001b[0m         parse_constant \u001b[38;5;129;01mis\u001b[39;00m \u001b[38;5;28;01mNone\u001b[39;00m \u001b[38;5;129;01mand\u001b[39;00m object_pairs_hook \u001b[38;5;129;01mis\u001b[39;00m \u001b[38;5;28;01mNone\u001b[39;00m \u001b[38;5;129;01mand\u001b[39;00m \u001b[38;5;129;01mnot\u001b[39;00m kw):\n\u001b[0;32m--> 346\u001b[0m     \u001b[38;5;28;01mreturn\u001b[39;00m \u001b[43m_default_decoder\u001b[49m\u001b[38;5;241;43m.\u001b[39;49m\u001b[43mdecode\u001b[49m\u001b[43m(\u001b[49m\u001b[43ms\u001b[49m\u001b[43m)\u001b[49m\n\u001b[1;32m    347\u001b[0m \u001b[38;5;28;01mif\u001b[39;00m \u001b[38;5;28mcls\u001b[39m \u001b[38;5;129;01mis\u001b[39;00m \u001b[38;5;28;01mNone\u001b[39;00m:\n\u001b[1;32m    348\u001b[0m     \u001b[38;5;28mcls\u001b[39m \u001b[38;5;241m=\u001b[39m JSONDecoder\n",
      "File \u001b[0;32m/usr/lib/python3.10/json/decoder.py:337\u001b[0m, in \u001b[0;36mJSONDecoder.decode\u001b[0;34m(self, s, _w)\u001b[0m\n\u001b[1;32m    332\u001b[0m \u001b[38;5;28;01mdef\u001b[39;00m\u001b[38;5;250m \u001b[39m\u001b[38;5;21mdecode\u001b[39m(\u001b[38;5;28mself\u001b[39m, s, _w\u001b[38;5;241m=\u001b[39mWHITESPACE\u001b[38;5;241m.\u001b[39mmatch):\n\u001b[1;32m    333\u001b[0m \u001b[38;5;250m    \u001b[39m\u001b[38;5;124;03m\"\"\"Return the Python representation of ``s`` (a ``str`` instance\u001b[39;00m\n\u001b[1;32m    334\u001b[0m \u001b[38;5;124;03m    containing a JSON document).\u001b[39;00m\n\u001b[1;32m    335\u001b[0m \n\u001b[1;32m    336\u001b[0m \u001b[38;5;124;03m    \"\"\"\u001b[39;00m\n\u001b[0;32m--> 337\u001b[0m     obj, end \u001b[38;5;241m=\u001b[39m \u001b[38;5;28;43mself\u001b[39;49m\u001b[38;5;241;43m.\u001b[39;49m\u001b[43mraw_decode\u001b[49m\u001b[43m(\u001b[49m\u001b[43ms\u001b[49m\u001b[43m,\u001b[49m\u001b[43m \u001b[49m\u001b[43midx\u001b[49m\u001b[38;5;241;43m=\u001b[39;49m\u001b[43m_w\u001b[49m\u001b[43m(\u001b[49m\u001b[43ms\u001b[49m\u001b[43m,\u001b[49m\u001b[43m \u001b[49m\u001b[38;5;241;43m0\u001b[39;49m\u001b[43m)\u001b[49m\u001b[38;5;241;43m.\u001b[39;49m\u001b[43mend\u001b[49m\u001b[43m(\u001b[49m\u001b[43m)\u001b[49m\u001b[43m)\u001b[49m\n\u001b[1;32m    338\u001b[0m     end \u001b[38;5;241m=\u001b[39m _w(s, end)\u001b[38;5;241m.\u001b[39mend()\n\u001b[1;32m    339\u001b[0m     \u001b[38;5;28;01mif\u001b[39;00m end \u001b[38;5;241m!=\u001b[39m \u001b[38;5;28mlen\u001b[39m(s):\n",
      "File \u001b[0;32m/usr/lib/python3.10/json/decoder.py:355\u001b[0m, in \u001b[0;36mJSONDecoder.raw_decode\u001b[0;34m(self, s, idx)\u001b[0m\n\u001b[1;32m    353\u001b[0m     obj, end \u001b[38;5;241m=\u001b[39m \u001b[38;5;28mself\u001b[39m\u001b[38;5;241m.\u001b[39mscan_once(s, idx)\n\u001b[1;32m    354\u001b[0m \u001b[38;5;28;01mexcept\u001b[39;00m \u001b[38;5;167;01mStopIteration\u001b[39;00m \u001b[38;5;28;01mas\u001b[39;00m err:\n\u001b[0;32m--> 355\u001b[0m     \u001b[38;5;28;01mraise\u001b[39;00m JSONDecodeError(\u001b[38;5;124m\"\u001b[39m\u001b[38;5;124mExpecting value\u001b[39m\u001b[38;5;124m\"\u001b[39m, s, err\u001b[38;5;241m.\u001b[39mvalue) \u001b[38;5;28;01mfrom\u001b[39;00m\u001b[38;5;250m \u001b[39m\u001b[38;5;28;01mNone\u001b[39;00m\n\u001b[1;32m    356\u001b[0m \u001b[38;5;28;01mreturn\u001b[39;00m obj, end\n",
      "\u001b[0;31mJSONDecodeError\u001b[0m: Expecting value: line 1 column 1 (char 0)"
     ]
    }
   ],
   "source": [
    "filename = f\"output/curie_{datetime.datetime.now().strftime('%Y-%m-%d_%H-%M-%S')}.ttl\"\n",
    "gm.make_graph(\":\", json.loads(subject_classes), json.loads(properties), filename)"
   ]
  }
 ],
 "metadata": {
  "kernelspec": {
   "display_name": "venv",
   "language": "python",
   "name": "python3"
  },
  "language_info": {
   "codemirror_mode": {
    "name": "ipython",
    "version": 3
   },
   "file_extension": ".py",
   "mimetype": "text/x-python",
   "name": "python",
   "nbconvert_exporter": "python",
   "pygments_lexer": "ipython3",
   "version": "3.10.12"
  }
 },
 "nbformat": 4,
 "nbformat_minor": 2
}
