{
 "cells": [
  {
   "cell_type": "code",
   "execution_count": 1,
   "metadata": {},
   "outputs": [],
   "source": [
    "import client\n",
    "import ontology_parser as op\n",
    "import ontology_formatter as of\n",
    "import openai_parser as oap\n",
    "import datetime"
   ]
  },
  {
   "cell_type": "code",
   "execution_count": 2,
   "metadata": {},
   "outputs": [],
   "source": [
    "namespace = \"http://www.semanticweb.org/ontologies/2024/11/curie\"\n",
    "prefix = \"cur\"\n",
    "text_to_extract = \"\"\"\n",
    "    Marie Curie, 7 November 1867 - 4 July 1934, was a Polish and naturalised-French physicist and chemist who conducted pioneering research on radioactivity.\n",
    "    She was the first woman to win a Nobel Prize, the first person to win a Nobel Prize twice, and the only person to win a Nobel Prize in two scientific fields.\n",
    "    Her husband, Pierre Curie, was a co-winner of her first Nobel Prize, making them the first-ever married couple to win the Nobel Prize and launching the Curie family legacy of five Nobel Prizes.\n",
    "    She was, in 1906, the first woman to become a professor at the University of Paris.\n",
    "    \"\"\"\n",
    "\n",
    "namespaces = {\n",
    "    prefix: f\"{namespace}#\",\n",
    "    \"rdf\": \"http://www.w3.org/1999/02/22-rdf-syntax-ns#\",\n",
    "    \"rdfs\": \"http://www.w3.org/2000/01/rdf-schema#\"\n",
    "}\n"
   ]
  },
  {
   "cell_type": "code",
   "execution_count": 3,
   "metadata": {},
   "outputs": [],
   "source": [
    "cnc, pnc = op.parse('ontologies/curie.ttl', namespace)\n",
    "formatted_classes = of.format_classess(cnc, namespace, prefix)\n",
    "formatted_properties = of.format_properties(pnc, namespace, prefix)"
   ]
  },
  {
   "cell_type": "code",
   "execution_count": 4,
   "metadata": {},
   "outputs": [
    {
     "name": "stdout",
     "output_type": "stream",
     "text": [
      "- http://www.semanticweb.org/ontologies/2024/11/curie/NobelPrize: A Nobel Prize for academic achievements\n",
      "- http://www.semanticweb.org/ontologies/2024/11/curie/Prize: Generally any prize that can be won\n",
      "- http://www.semanticweb.org/ontologies/2024/11/curie/Professor: Academic worker\n",
      "- http://www.semanticweb.org/ontologies/2024/11/curie/University: Place conducting academic research\n"
     ]
    }
   ],
   "source": [
    "print(formatted_classes)"
   ]
  },
  {
   "cell_type": "code",
   "execution_count": 5,
   "metadata": {},
   "outputs": [
    {
     "name": "stdout",
     "output_type": "stream",
     "text": [
      "- http://www.semanticweb.org/ontologies/2024/11/curie/died: Date of persons death\n",
      "- http://www.semanticweb.org/ontologies/2024/11/curie/wasBorn: Date of persons birth\n",
      "- http://www.semanticweb.org/ontologies/2024/11/curie/hasWon: Has won a prize\n",
      "- http://www.semanticweb.org/ontologies/2024/11/curie/isMarriedTo: Relation between two married people\n",
      "- http://www.semanticweb.org/ontologies/2024/11/curie/isNationality: Is of one specific nationality\n",
      "- http://www.semanticweb.org/ontologies/2024/11/curie/professorAt: Is an academic worker at university\n"
     ]
    }
   ],
   "source": [
    "print(formatted_properties)"
   ]
  },
  {
   "cell_type": "code",
   "execution_count": 10,
   "metadata": {},
   "outputs": [
    {
     "name": "stdout",
     "output_type": "stream",
     "text": [
      "[\"MarieCurie\", \"NobelPrize\", \"Prize\", \"Physicist\", \"Chemist\", \"Radioactivity\", \"PierreCurie\", \"Professor\", \"University\", \"CurieFamily\"]\n"
     ]
    }
   ],
   "source": [
    "subjects = client.get_subjects(formatted_classes, text_to_extract)\n",
    "print(subjects)"
   ]
  },
  {
   "cell_type": "code",
   "execution_count": 22,
   "metadata": {},
   "outputs": [
    {
     "name": "stdout",
     "output_type": "stream",
     "text": [
      "[{'subject': 'MarieCurie', 'class': 'http://www.semanticweb.org/ontologies/2024/11/curie/Physicist'},\n",
      "{'subject': 'MarieCurie', 'class': 'http://www.semanticweb.org/ontologies/2024/11/curie/Chemist'},\n",
      "{'subject': 'MarieCurie', 'class': 'http://www.semanticweb.org/ontologies/2024/11/curie/NobelPrize'},\n",
      "{'subject': 'NobelPrize', 'class': 'http://www.semanticweb.org/ontologies/2024/11/curie/Prize'},\n",
      "{'subject': 'Physicist', 'class': 'http://www.semanticweb.org/ontologies/2024/11/curie/Professor'},\n",
      "{'subject': 'Chemist', 'class': 'http://www.semanticweb.org/ontologies/2024/11/curie/Professor'},\n",
      "{'subject': 'University of Paris', 'class': 'http://www.semanticweb.org/ontologies/2024/11/curie/University'},\n",
      "{'subject': 'PierreCurie', 'class': 'http://www.semanticweb.org/ontologies/2024/11/curie/Physicist'},\n",
      "{'subject': 'PierreCurie', 'class': 'http://www.semanticweb.org/ontologies/2024/11/curie/Chemist'},\n",
      "{'subject': 'Curie family', 'class': 'http://www.semanticweb.org/ontologies/2024/11/curie/NobelPrize'}]\n"
     ]
    }
   ],
   "source": [
    "subject_classes = client.get_subject_classess(subjects, formatted_classes, text_to_extract)\n",
    "print(subject_classes)"
   ]
  },
  {
   "cell_type": "code",
   "execution_count": 23,
   "metadata": {},
   "outputs": [
    {
     "name": "stdout",
     "output_type": "stream",
     "text": [
      "The extracted information is:\n",
      "\n",
      "    [\n",
      "        {\n",
      "            \"subject\": \"MarieCurie\",\n",
      "            \"predicate\": \"cur:wasBorn\",\n",
      "            \"object\": \"7 November 1867\"\n",
      "        },\n",
      "        {\n",
      "            \"subject\": \"MarieCurie\",\n",
      "            \"predicate\": \"cur:died\",\n",
      "            \"object\": \"4 July 1934\"\n",
      "        },\n",
      "        {\n",
      "            \"subject\": \"MarieCurie\",\n",
      "            \"predicate\": \"cur:isNationality\",\n",
      "            \"object\": \"Polish\"\n",
      "        },\n",
      "        {\n",
      "            \"subject\": \"MarieCurie\",\n",
      "            \"predicate\": \"cur:isNationality\",\n",
      "            \"object\": \"naturalised-French\"\n",
      "        },\n",
      "        {\n",
      "            \"subject\": \"MarieCurie\",\n",
      "            \"predicate\": \"cur:hasWon\",\n",
      "            \"object\": \"Nobel Prize\"\n",
      "        },\n",
      "        {\n",
      "            \"subject\": \"MarieCurie\",\n",
      "            \"predicate\": \"cur:hasWon\",\n",
      "            \"object\": \"Nobel Prize\"\n",
      "        },\n",
      "        {\n",
      "            \"subject\": \"MarieCurie\",\n",
      "            \"predicate\": \"cur:hasWon\",\n",
      "            \"object\": \"Nobel Prize\"\n",
      "        },\n",
      "        {\n",
      "            \"subject\": \"MarieCurie\",\n",
      "            \"predicate\": \"cur:isMarriedTo\",\n",
      "            \"object\": \"PierreCurie\"\n",
      "        },\n",
      "        {\n",
      "            \"subject\": \"PierreCurie\",\n",
      "            \"predicate\": \"cur:hasWon\",\n",
      "            \"object\": \"Nobel Prize\"\n",
      "        },\n",
      "        {\n",
      "            \"subject\": \"Curie family\",\n",
      "            \"predicate\": \"cur:hasWon\",\n",
      "            \"object\": \"Nobel Prize\"\n",
      "        },\n",
      "        {\n",
      "            \"subject\": \"MarieCurie\",\n",
      "            \"predicate\": \"cur:professorAt\",\n",
      "            \"object\": \"University of Paris\"\n",
      "        },\n",
      "        {\n",
      "            \"subject\": \"University of Paris\",\n",
      "            \"predicate\": \"rdf:type\",\n",
      "            \"object\": \"cur:University\"\n",
      "        },\n",
      "        {\n",
      "            \"subject\": \"MarieCurie\",\n",
      "            \"predicate\": \"rdf:type\",\n",
      "            \"object\": \"cur:Physicist\"\n",
      "        },\n",
      "        {\n",
      "            \"subject\": \"MarieCurie\",\n",
      "            \"predicate\": \"rdf:type\",\n",
      "            \"object\": \"cur:Chemist\"\n",
      "        }\n",
      "    ]\n"
     ]
    }
   ],
   "source": [
    "properties = client.get_properties(subject_classes, formatted_properties, text_to_extract, prefix)\n",
    "print(properties)"
   ]
  }
 ],
 "metadata": {
  "kernelspec": {
   "display_name": "kg",
   "language": "python",
   "name": "python3"
  },
  "language_info": {
   "codemirror_mode": {
    "name": "ipython",
    "version": 3
   },
   "file_extension": ".py",
   "mimetype": "text/x-python",
   "name": "python",
   "nbconvert_exporter": "python",
   "pygments_lexer": "ipython3",
   "version": "3.10.12"
  }
 },
 "nbformat": 4,
 "nbformat_minor": 2
}
