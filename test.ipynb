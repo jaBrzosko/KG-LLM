{
 "cells": [
  {
   "cell_type": "code",
   "execution_count": 1,
   "metadata": {},
   "outputs": [],
   "source": [
    "from client import get_knowledge_graph\n",
    "import ontology_parser as op\n",
    "import ontology_formatter as of\n"
   ]
  },
  {
   "cell_type": "code",
   "execution_count": 2,
   "metadata": {},
   "outputs": [],
   "source": [
    "cnc, pnc = op.parse('ontologies/bot.ttl', \"https://w3id.org/bot\")\n",
    "formatted_ontology = of.format(cnc, pnc, \"https://w3id.org/bot\", \"bot\")\n",
    "\n",
    "text_to_extract = \"Smith's apartment is in a Osiedle Majdańska building. They live in South Praga\"\n",
    "\n",
    "graph = get_knowledge_graph(formatted_ontology, \"bot\", text_to_extract)\n",
    "    "
   ]
  },
  {
   "cell_type": "code",
   "execution_count": null,
   "metadata": {},
   "outputs": [
    {
     "name": "stdout",
     "output_type": "stream",
     "text": [
      "Here's the extracted information:\n",
      "\n",
      "```\n",
      "[\n",
      "    {\n",
      "        \"subject\": \"bot:Building/Osiedle Majdańska\",\n",
      "        \"predicate\": \"bot:containsSpace\",\n",
      "        \"object\": \"bot:Space/Smith's apartment\"\n",
      "    },\n",
      "    {\n",
      "        \"subject\": \"bot:Space/Smith's apartment\",\n",
      "        \"predicate\": \"bot:hasZone\",\n",
      "        \"object\": \"bot:Zone/South Praga\"\n",
      "    },\n",
      "    {\n",
      "        \"subject\": \"bot:Building/Osiedle Majdańska\",\n",
      "        \"predicate\": \"bot:hasSite\",\n",
      "        \"object\": \"bot:Site\"\n",
      "    }\n",
      "]\n",
      "```\n",
      "\n",
      "We can infer from the text that Smith's apartment is located in a building in Osiedle Majdańska. Therefore, we create a triple with the building as the subject and Smith's apartment as the object, with the predicate \"bot:containsSpace\".\n",
      "\n",
      "The text also indicates that the apartment is located in South Praga. We can represent South Praga as a zone that is contained within the apartment, so we create a triple with the apartment as the subject and South Praga as the object, with the predicate \"bot:hasZone\".\n",
      "\n",
      "Finally, as the text mentions a building, we can infer that the building in which Smith's apartment is located must be contained in a site, so we create a triple with the building as the subject and a new site as the object, with the predicate \"bot:hasSite\".\n"
     ]
    }
   ],
   "source": [
    "gd = graph.to_dict()\n",
    "print(graph.choices[0].message.content)"
   ]
  },
  {
   "cell_type": "code",
   "execution_count": 2,
   "metadata": {},
   "outputs": [
    {
     "name": "stdout",
     "output_type": "stream",
     "text": [
      "Here is the extracted information in the requested format:\n",
      "\n",
      "```\n",
      "[\n",
      "    {\n",
      "        \"subject\": \"cur:MarieCurie\",\n",
      "        \"predicate\": \"cur:isNationality\",\n",
      "        \"object\": \"cur:Polish\"\n",
      "    },\n",
      "    {\n",
      "        \"subject\": \"cur:MarieCurie\",\n",
      "        \"predicate\": \"cur:isNationality\",\n",
      "        \"object\": \"cur:French\"\n",
      "    },\n",
      "    {\n",
      "        \"subject\": \"cur:MarieCurie\",\n",
      "        \"predicate\": \"cur:hasWon\",\n",
      "        \"object\": \"cur:NobelPrize\"\n",
      "    },\n",
      "    {\n",
      "        \"subject\": \"cur:MarieCurie\",\n",
      "        \"predicate\": \"cur:hasWon\",\n",
      "        \"object\": \"cur:NobelPrize\"\n",
      "    },\n",
      "    {\n",
      "        \"subject\": \"cur:MarieCurie\",\n",
      "        \"predicate\": \"cur:hasWon\",\n",
      "        \"object\": \"cur:NobelPrize\"\n",
      "    },\n",
      "    {\n",
      "        \"subject\": \"cur:MarieCurie\",\n",
      "        \"predicate\": \"cur:hasWon\",\n",
      "        \"object\": \"cur:NobelPrize\"\n",
      "    },\n",
      "    {\n",
      "        \"subject\": \"cur:MarieCurie\",\n",
      "        \"predicate\": \"cur:hasWon\",\n",
      "        \"object\": \"cur:NobelPrize\"\n",
      "    },\n",
      "    {\n",
      "        \"subject\": \"cur:PierreCurie\",\n",
      "        \"predicate\": \"cur:hasWon\",\n",
      "        \"object\": \"cur:NobelPrize\"\n",
      "    },\n",
      "    {\n",
      "        \"subject\": \"cur:PierreCurie\",\n",
      "        \"predicate\": \"cur:isMarriedTo\",\n",
      "        \"object\": \"cur:MarieCurie\"\n",
      "    },\n",
      "    {\n",
      "        \"subject\": \"cur:MarieCurie\",\n",
      "        \"predicate\": \"cur:professorAt\",\n",
      "        \"object\": \"cur:UniversityofParis\"\n",
      "    }\n",
      "]\n",
      "``` \n",
      "\n",
      "Note: The `cur` prefix is used as requested in the statement of the problem.\n"
     ]
    }
   ],
   "source": [
    "text_to_extract = \"\"\"\n",
    "    Marie Curie, 7 November 1867 - 4 July 1934, was a Polish and naturalised-French physicist and chemist who conducted pioneering research on radioactivity.\n",
    "    She was the first woman to win a Nobel Prize, the first person to win a Nobel Prize twice, and the only person to win a Nobel Prize in two scientific fields.\n",
    "    Her husband, Pierre Curie, was a co-winner of her first Nobel Prize, making them the first-ever married couple to win the Nobel Prize and launching the Curie family legacy of five Nobel Prizes.\n",
    "    She was, in 1906, the first woman to become a professor at the University of Paris.\n",
    "    \"\"\"\n",
    "\n",
    "cnc, pnc = op.parse('ontologies/curie.ttl', \"http://www.semanticweb.org/ontologies/2024/11/curie\")\n",
    "formatted_ontology = of.format(cnc, pnc, \"http://www.semanticweb.org/ontologies/2024/11/curie\", \"cur\")\n",
    "\n",
    "graph = get_knowledge_graph(formatted_ontology, \"cur\", text_to_extract)\n",
    "print(graph)"
   ]
  }
 ],
 "metadata": {
  "kernelspec": {
   "display_name": "kg",
   "language": "python",
   "name": "python3"
  },
  "language_info": {
   "codemirror_mode": {
    "name": "ipython",
    "version": 3
   },
   "file_extension": ".py",
   "mimetype": "text/x-python",
   "name": "python",
   "nbconvert_exporter": "python",
   "pygments_lexer": "ipython3",
   "version": "3.10.12"
  }
 },
 "nbformat": 4,
 "nbformat_minor": 2
}
